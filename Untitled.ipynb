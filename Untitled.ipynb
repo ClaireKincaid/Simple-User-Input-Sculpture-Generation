{
 "cells": [
  {
   "cell_type": "markdown",
   "metadata": {},
   "source": [
    "# Technical Review 2 Preparation and Framing\n",
    "## Coleman Ellis, Claire Kincaid, Maximillian Schommer\n",
    "\n",
    "### Background and Context\n",
    "Our project is currently in three separate parts-- Schommer's functions to generate STLs based on 3D noise, Coleman's functions to generate STLs based on explicitly defined shapes and transformations, and Claire's GUI to tie everything together. Coleman's and Schommer's code is pretty complete; our STL generators work, and we've just got to merge our code together to use Schommer's much faster STL generators. Claire's in the process of laying out the GUI, and that's what most of our questions are about.\n",
    "### Key Questions\n",
    " - What should the GUI look like?\n",
    "  - How should the functions be organized?\n",
    " - Tell us about the GUIs you like the most.\n",
    "  - What makes them compelling?\n",
    "  - What makes them easy to use?\n",
    "  - Why do you like them?\n",
    " - What GUIs didn't you like? What didn't you like about them?\n",
    " - This should be a fairly open discussion, about the relative merits of GUI design.\n",
    "### Agenda\n",
    " - 5 minutes: Intro slides, overview of code structure and purpose\n",
    " - 20 minutes: Q&A discussion about GUI Design"
   ]
  }
 ],
 "metadata": {
  "kernelspec": {
   "display_name": "Python 2",
   "language": "python",
   "name": "python2"
  },
  "language_info": {
   "codemirror_mode": {
    "name": "ipython",
    "version": 2
   },
   "file_extension": ".py",
   "mimetype": "text/x-python",
   "name": "python",
   "nbconvert_exporter": "python",
   "pygments_lexer": "ipython2",
   "version": "2.7.11"
  }
 },
 "nbformat": 4,
 "nbformat_minor": 0
}
